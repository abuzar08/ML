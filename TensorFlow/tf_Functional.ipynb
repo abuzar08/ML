{
  "nbformat": 4,
  "nbformat_minor": 0,
  "metadata": {
    "colab": {
      "name": "tf_Functional.ipynb",
      "provenance": []
    },
    "kernelspec": {
      "name": "python3",
      "display_name": "Python 3"
    },
    "language_info": {
      "name": "python"
    },
    "accelerator": "GPU"
  },
  "cells": [
    {
      "cell_type": "code",
      "execution_count": 5,
      "metadata": {
        "id": "Vh49TYWQwcU8"
      },
      "outputs": [],
      "source": [
        "import tensorflow as tf\n",
        "import tensorflow.keras as keras\n",
        "from tensorflow.keras import datasets, layers\n",
        "\n",
        "import pandas as pd"
      ]
    },
    {
      "cell_type": "markdown",
      "source": [
        "## Data\n",
        "- MNIST with a twist"
      ],
      "metadata": {
        "id": "bui2dol5wtV3"
      }
    },
    {
      "cell_type": "code",
      "source": [
        ""
      ],
      "metadata": {
        "id": "v-6XLxiWwldg"
      },
      "execution_count": null,
      "outputs": []
    },
    {
      "cell_type": "markdown",
      "source": [
        "## Model - Functional"
      ],
      "metadata": {
        "id": "Rcr7C8c2zSdr"
      }
    },
    {
      "cell_type": "code",
      "source": [
        "# Hyperparameters\n",
        "BATCH_SIZE = 64\n",
        "WEIGHT_DECAY = 0.001\n",
        "LR = 0.001"
      ],
      "metadata": {
        "id": "nFWCs--Kznpu"
      },
      "execution_count": 8,
      "outputs": []
    },
    {
      "cell_type": "code",
      "source": [
        "inputs = keras.Input(shape = (64,64,1))\n",
        "x = layers.Conv2D(\n",
        "      filters = 32,\n",
        "      kernel_size = 3,\n",
        "      padding = 'same',\n",
        "      kernel_regularizer = keras.regularizers.l2(WEIGHT_DECAY)\n",
        "    )(inputs)\n",
        "x = layers.BatchNormalization()(x)\n",
        "x = keras.activations.relu(x)\n",
        "\n",
        "x = layers.Conv2D(\n",
        "      filters = 64,\n",
        "      kernel_size = 3,\n",
        "      kernel_regularizer = keras.regularizers.l2(WEIGHT_DECAY)\n",
        "    )(inputs)\n",
        "x = layers.BatchNormalization()(x)\n",
        "x = keras.activations.relu(x)\n",
        "\n",
        "x = layers.MaxPool2D()(x)\n",
        "\n",
        "x = layers.Conv2D(\n",
        "      filters = 128,\n",
        "      kernel_size = 3,\n",
        "      kernel_regularizer = keras.regularizers.l2(WEIGHT_DECAY)\n",
        "    )(inputs)\n",
        "x = layers.BatchNormalization()(x)\n",
        "x = keras.activations.relu(x)\n",
        "\n",
        "x = layers.Flatten()(x)\n",
        "\n",
        "x = layers.Dense(128, activation = 'relu')(x)\n",
        "x = layers.Dropout(0.5)(x)\n",
        "x = layers.Dense(64, activation = 'relu')(x)\n",
        "\n",
        "output1 = layers.Dense(10, name = 'frist_num', activation = 'softmax')(x)\n",
        "output2 = layers.Dense(10, name = 'second_num', activation = 'softmax')(x)\n",
        "\n",
        "\n",
        "model = keras.Model(inputs = inputs, outputs = [output1, output2])\n"
      ],
      "metadata": {
        "id": "4Tl65HhEzUSl"
      },
      "execution_count": 14,
      "outputs": []
    },
    {
      "cell_type": "code",
      "source": [
        "model.compile(\n",
        "    loss = [keras.losses.SparseCategoricalCrossentropy(), keras.losses.SparseCategoricalCrossentropy()],\n",
        "    optimizer = keras.optimizers.Adam(LR),\n",
        "    metrics = [\"accuracy\"]\n",
        ")"
      ],
      "metadata": {
        "id": "gJDL_xJa6hTM"
      },
      "execution_count": 19,
      "outputs": []
    },
    {
      "cell_type": "code",
      "source": [
        "model.summary()"
      ],
      "metadata": {
        "colab": {
          "base_uri": "https://localhost:8080/"
        },
        "id": "lFBV2FjS697p",
        "outputId": "8e6c9f52-2217-4771-99f1-f5c43066250f"
      },
      "execution_count": 20,
      "outputs": [
        {
          "output_type": "stream",
          "name": "stdout",
          "text": [
            "Model: \"model_1\"\n",
            "__________________________________________________________________________________________________\n",
            " Layer (type)                   Output Shape         Param #     Connected to                     \n",
            "==================================================================================================\n",
            " input_3 (InputLayer)           [(None, 64, 64, 1)]  0           []                               \n",
            "                                                                                                  \n",
            " conv2d_5 (Conv2D)              (None, 62, 62, 128)  1280        ['input_3[0][0]']                \n",
            "                                                                                                  \n",
            " batch_normalization_5 (BatchNo  (None, 62, 62, 128)  512        ['conv2d_5[0][0]']               \n",
            " rmalization)                                                                                     \n",
            "                                                                                                  \n",
            " tf.nn.relu_5 (TFOpLambda)      (None, 62, 62, 128)  0           ['batch_normalization_5[0][0]']  \n",
            "                                                                                                  \n",
            " flatten_1 (Flatten)            (None, 492032)       0           ['tf.nn.relu_5[0][0]']           \n",
            "                                                                                                  \n",
            " dense_2 (Dense)                (None, 128)          62980224    ['flatten_1[0][0]']              \n",
            "                                                                                                  \n",
            " dropout_1 (Dropout)            (None, 128)          0           ['dense_2[0][0]']                \n",
            "                                                                                                  \n",
            " dense_3 (Dense)                (None, 64)           8256        ['dropout_1[0][0]']              \n",
            "                                                                                                  \n",
            " frist_num (Dense)              (None, 10)           650         ['dense_3[0][0]']                \n",
            "                                                                                                  \n",
            " second_num (Dense)             (None, 10)           650         ['dense_3[0][0]']                \n",
            "                                                                                                  \n",
            "==================================================================================================\n",
            "Total params: 62,991,572\n",
            "Trainable params: 62,991,316\n",
            "Non-trainable params: 256\n",
            "__________________________________________________________________________________________________\n"
          ]
        }
      ]
    },
    {
      "cell_type": "code",
      "source": [
        ""
      ],
      "metadata": {
        "id": "hk9d6bK98P1N"
      },
      "execution_count": null,
      "outputs": []
    }
  ]
}