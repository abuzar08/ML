{
  "cells": [
    {
      "cell_type": "code",
      "execution_count": 24,
      "metadata": {
        "id": "neoJnuI-Y53l"
      },
      "outputs": [],
      "source": [
        "import tensorflow as tf\n",
        "from tensorflow import keras\n",
        "from tensorflow.keras import layers\n",
        "from tensorflow.keras.datasets import mnist\n",
        "import tensorflow_datasets as tfds"
      ]
    },
    {
      "cell_type": "markdown",
      "metadata": {
        "id": "I8PgGoCSZQVl"
      },
      "source": [
        "## Data"
      ]
    },
    {
      "cell_type": "code",
      "execution_count": 3,
      "metadata": {
        "id": "1gadxjdYZPR4"
      },
      "outputs": [],
      "source": [
        "(x_train, y_train), (x_test, y_test) = mnist.load_data()\n",
        "\n",
        "def mould(x):\n",
        "  return x.reshape(-1, 28, 28, 1).astype(\"float32\")/255.0\n",
        "\n",
        "x_train, x_test = mould(x_train), mould(x_test)"
      ]
    },
    {
      "cell_type": "markdown",
      "metadata": {
        "id": "XypbdLC5Zpmu"
      },
      "source": [
        "##  Model"
      ]
    },
    {
      "cell_type": "code",
      "execution_count": 22,
      "metadata": {
        "colab": {
          "base_uri": "https://localhost:8080/"
        },
        "id": "IXTFz-uvbToL",
        "outputId": "1e57ed3f-105d-4347-e1ed-7a47f56ab32e"
      },
      "outputs": [
        {
          "name": "stdout",
          "output_type": "stream",
          "text": [
            "Epoch 1/2\n",
            "1875/1875 [==============================] - 9s 5ms/step - loss: 0.1197 - accuracy: 0.9328\n",
            "Epoch 2/2\n",
            "1875/1875 [==============================] - 8s 5ms/step - loss: 0.0463 - accuracy: 0.9710\n"
          ]
        },
        {
          "data": {
            "text/plain": [
              "<keras.callbacks.History at 0x7f930a442f50>"
            ]
          },
          "execution_count": 22,
          "metadata": {},
          "output_type": "execute_result"
        }
      ],
      "source": [
        "model = keras.Sequential(\n",
        "    [\n",
        "     layers.Input(shape = (28,28,1)),\n",
        "     layers.Conv2D(64, 3, padding='same', activation = 'relu'),\n",
        "     layers.Conv2D(128, 3, padding='same', activation = 'relu'),\n",
        "     layers.Flatten(),\n",
        "     layers.Dense(10, activation = 'softmax')\n",
        "    ]\n",
        ")\n",
        "\n",
        "class CustomFit(keras.Model):\n",
        "  def __init__(self, model):\n",
        "    super().__init__()\n",
        "    self.model = model\n",
        "  \n",
        "  def compile(self, optimizer, loss):\n",
        "    super().compile()\n",
        "    self.optimizer = optimizer\n",
        "    self.loss = loss\n",
        "    # self.metrics = metrics # CANT DO THIS\n",
        "\n",
        "  def train_step(self, data):\n",
        "    x, y = data\n",
        "\n",
        "    # Forward\n",
        "    with tf.GradientTape() as tape:\n",
        "      # Record all operations for backwards\n",
        "      y_pred = self.model(x, training = True)\n",
        "      loss = self.loss(y, y_pred)\n",
        "    \n",
        "    # Get the gradients\n",
        "    training_vars = self.trainable_variables\n",
        "    gradients = tape.gradient(loss, training_vars)\n",
        "\n",
        "    # Step\n",
        "    self.optimizer.apply_gradients(zip(gradients, training_vars))\n",
        "    \n",
        "    # Metrics\n",
        "    acc_metric.update_state(y, y_pred)\n",
        "    # self.compiled_metrics.update_state(y, y_pred)\n",
        "\n",
        "    return {\"loss\": loss, \"accuracy\":acc_metric.result()}\n",
        "  \n",
        "  def test_step(self, data):\n",
        "    x, y = data\n",
        "    \n",
        "    y_pred = self.model(x, training=False)\n",
        "\n",
        "    loss = self.loss(y,y_pred)\n",
        "    acc_metric.update_state(y, y_pred)\n",
        "\n",
        "    return {\"loss\":loss, \"accuracy\":acc_metric.result()}\n",
        "\n",
        "\n",
        "acc_metric = keras.metrics.SparseCategoricalAccuracy(name = \"accuracy\")\n",
        "model = CustomFit(model)\n",
        "model.compile(\n",
        "    loss = keras.losses.SparseCategoricalCrossentropy(from_logits = False),\n",
        "    optimizer = keras.optimizers.Adam(4e-3)\n",
        ")\n",
        "model.fit(x_train, y_train, batch_size = 32, epochs = 2)"
      ]
    },
    {
      "cell_type": "code",
      "execution_count": 23,
      "metadata": {
        "colab": {
          "base_uri": "https://localhost:8080/"
        },
        "id": "Wj-PqDi2cu2T",
        "outputId": "222a6ccd-b406-4a70-e2c9-059d38849be9"
      },
      "outputs": [
        {
          "name": "stdout",
          "output_type": "stream",
          "text": [
            "313/313 [==============================] - 1s 3ms/step - loss: 0.0597 - accuracy: 0.9752\n"
          ]
        },
        {
          "data": {
            "text/plain": [
              "[0.9755692481994629, 0.0005250590620562434]"
            ]
          },
          "execution_count": 23,
          "metadata": {},
          "output_type": "execute_result"
        }
      ],
      "source": [
        "model.evaluate(x_test, y_test, batch_size = 32)"
      ]
    },
    {
      "cell_type": "code",
      "execution_count": null,
      "metadata": {
        "id": "uGv-nemyc-Pk"
      },
      "outputs": [],
      "source": []
    },
    {
      "cell_type": "markdown",
      "metadata": {
        "id": "UBpjHmfKxRNd"
      },
      "source": [
        "## Everything on our own"
      ]
    },
    {
      "cell_type": "code",
      "execution_count": 25,
      "metadata": {
        "colab": {
          "base_uri": "https://localhost:8080/",
          "height": 188,
          "referenced_widgets": [
            "23e9ab91974f4217a84f0ee87dfe1770",
            "7be497e714a94ace882d946142ede760",
            "caaa10c787b245f096b44a626a887871",
            "46bad6a8890b4c00b92a4a16f6d1b1d5",
            "b1729637e9be4b5ea221bfcf8b07b3aa",
            "c19136142d3645518e9b73567b674f2d",
            "4f47ebba0e2d4b7d88816b5cad9831bb",
            "f8d1a78f2388485183737efdf9704d08",
            "6635dc78cd1e4ff99eb5cd027af2835e",
            "6e82759696524f70b72a4598b3ebc988",
            "63a0cbdbaf6649aca621ca42d786bb54"
          ]
        },
        "id": "ViVo4fzvxTtk",
        "outputId": "ad9b93db-5fdb-4ef8-ba8a-70cfd06b22b2"
      },
      "outputs": [
        {
          "name": "stdout",
          "output_type": "stream",
          "text": [
            "\u001b[1mDownloading and preparing dataset mnist/3.0.1 (download: 11.06 MiB, generated: 21.00 MiB, total: 32.06 MiB) to /root/tensorflow_datasets/mnist/3.0.1...\u001b[0m\n"
          ]
        },
        {
          "name": "stderr",
          "output_type": "stream",
          "text": [
            "WARNING:absl:Dataset mnist is hosted on GCS. It will automatically be downloaded to your\n",
            "local data directory. If you'd instead prefer to read directly from our public\n",
            "GCS bucket (recommended if you're running on GCP), you can instead pass\n",
            "`try_gcs=True` to `tfds.load` or set `data_dir=gs://tfds-data/datasets`.\n",
            "\n"
          ]
        },
        {
          "data": {
            "application/vnd.jupyter.widget-view+json": {
              "model_id": "23e9ab91974f4217a84f0ee87dfe1770",
              "version_major": 2,
              "version_minor": 0
            },
            "text/plain": [
              "Dl Completed...:   0%|          | 0/4 [00:00<?, ? file/s]"
            ]
          },
          "metadata": {},
          "output_type": "display_data"
        },
        {
          "name": "stdout",
          "output_type": "stream",
          "text": [
            "\n",
            "\u001b[1mDataset mnist downloaded and prepared to /root/tensorflow_datasets/mnist/3.0.1. Subsequent calls will reuse this data.\u001b[0m\n"
          ]
        }
      ],
      "source": [
        "(ds_train, ds_test), ds_info = tfds.load(\n",
        "  \"mnist\",\n",
        "  split = [\"train\", \"test\"],\n",
        "  shuffle_files = True,\n",
        "  as_supervised = True,\n",
        "  with_info = True    \n",
        ")\n",
        "\n",
        "def normalize_image(img, label):\n",
        "  return tf.cast(img, tf.float32)/255.0, label\n",
        "\n",
        "AUTOTUNE = tf.data.experimental.AUTOTUNE\n",
        "BATCH_SIZE = 128\n",
        "\n",
        "ds_train = ds_train.map(normalize_image, num_parallel_calls = AUTOTUNE).cache().shuffle(ds_info.splits[\"train\"].num_examples).batch(BATCH_SIZE).prefetch(AUTOTUNE)\n",
        "ds_test = ds_test.map(normalize_image, num_parallel_calls = AUTOTUNE).batch(BATCH_SIZE).prefetch(AUTOTUNE)"
      ]
    },
    {
      "cell_type": "code",
      "execution_count": 27,
      "metadata": {
        "id": "lWlRI3UtyjGj"
      },
      "outputs": [],
      "source": [
        "model = keras.Sequential([\n",
        "                          keras.Input(shape=(28,28,1)),\n",
        "                          layers.Conv2D(32,3,activation='relu'),\n",
        "                          layers.Flatten(),\n",
        "                          layers.Dense(10, activation = 'softmax')\n",
        "])"
      ]
    },
    {
      "cell_type": "code",
      "execution_count": 30,
      "metadata": {
        "id": "A2RRsfkRzA_z"
      },
      "outputs": [],
      "source": [
        "epochs = 5\n",
        "optimizer = keras.optimizers.Adam()\n",
        "loss_fn = keras.losses.SparseCategoricalCrossentropy(from_logits=False)\n",
        "\n",
        "acc_metric = keras.metrics.SparseCategoricalAccuracy()\n",
        "val_acc = keras.metrics.SparseCategoricalAccurcay()\n",
        "\n",
        "ds_val = None"
      ]
    },
    {
      "cell_type": "code",
      "execution_count": 32,
      "metadata": {
        "colab": {
          "base_uri": "https://localhost:8080/"
        },
        "id": "ppay338_zIb5",
        "outputId": "097a4cc6-e027-49a3-8484-a5a9173f61cb"
      },
      "outputs": [
        {
          "name": "stdout",
          "output_type": "stream",
          "text": [
            "\n",
            "Starting epoch 1 / 5\n",
            "Acc: 0.9249833226203918\n",
            "\n",
            "Starting epoch 2 / 5\n",
            "Acc: 0.9740833044052124\n",
            "\n",
            "Starting epoch 3 / 5\n",
            "Acc: 0.9818000197410583\n",
            "\n",
            "Starting epoch 4 / 5\n",
            "Acc: 0.9857500195503235\n",
            "\n",
            "Starting epoch 5 / 5\n",
            "Acc: 0.9881500005722046\n",
            "Acc: 0.9815000295639038\n"
          ]
        }
      ],
      "source": [
        "# Training Loop:\n",
        "max_val_acc = 0\n",
        "for epoch in range(epochs):\n",
        "  print(f\"\\nStarting epoch {epoch+1} / {epochs}\")\n",
        "  for batch_idx, (x_b, y_b) in enumerate(ds_train):\n",
        "\n",
        "    # Forward with backward calc\n",
        "    with tf.GradientTape() as tape:\n",
        "      y_pred = model(x_b, training = True)\n",
        "      loss = loss_fn(y_b, y_pred)\n",
        "    \n",
        "    # Gradient calc\n",
        "    gradients = tape.gradient(loss, model.trainable_weights)\n",
        "    \n",
        "    # optimizer.step()\n",
        "    optimizer.apply_gradients(zip(gradients, model.trainable_weights))\n",
        "    \n",
        "    # Calc metric\n",
        "    acc_metric.update_state(y_b, y_pred)\n",
        "  \n",
        "  train_acc = acc_metric.result()\n",
        "  print(f\"Acc: {train_acc}\")\n",
        "  acc_metric.reset_states()\n",
        "\n",
        "  for (x,y) in enumerate(ds_val):\n",
        "\n",
        "    y_pred = model(x)\n",
        "    val_acc.update_state(y_pred, y)\n",
        "  \n",
        "  val_accuracy = val_acc.result()\n",
        "  print(f\"Validation Acc: {val_accuracy}\")\n",
        "  if val_accuracy > max_val_acc:\n",
        "    max_val_acc = val_accuracy\n",
        "    model.save_weights(\"path\")\n",
        "  val_acc.reset_states()\n",
        "  \n",
        "\n",
        "# Testing\n",
        "\n",
        "for batch_idx, (x_b, y_b) in enumerate(ds_test):\n",
        "\n",
        "  y_pred = model(x_b, training = False)\n",
        "  acc_metric.update_state(y_b, y_pred)\n",
        "\n",
        "test_accuracy = acc_metric.result()\n",
        "print(f\"Acc: {test_accuracy}\")\n",
        "acc_metric.reset_states()"
      ]
    },
    {
      "cell_type": "code",
      "execution_count": null,
      "metadata": {
        "id": "YrsV_XlV5o9K"
      },
      "outputs": [],
      "source": []
    }
  ],
  "metadata": {
    "accelerator": "GPU",
    "colab": {
      "name": "tf_custom_fit.ipynb",
      "provenance": []
    },
    "kernelspec": {
      "display_name": "Python 3",
      "name": "python3"
    },
    "language_info": {
      "name": "python"
    },
    "widgets": {
      "application/vnd.jupyter.widget-state+json": {
        "23e9ab91974f4217a84f0ee87dfe1770": {
          "model_module": "@jupyter-widgets/controls",
          "model_module_version": "1.5.0",
          "model_name": "HBoxModel",
          "state": {
            "_dom_classes": [],
            "_model_module": "@jupyter-widgets/controls",
            "_model_module_version": "1.5.0",
            "_model_name": "HBoxModel",
            "_view_count": null,
            "_view_module": "@jupyter-widgets/controls",
            "_view_module_version": "1.5.0",
            "_view_name": "HBoxView",
            "box_style": "",
            "children": [
              "IPY_MODEL_caaa10c787b245f096b44a626a887871",
              "IPY_MODEL_46bad6a8890b4c00b92a4a16f6d1b1d5",
              "IPY_MODEL_b1729637e9be4b5ea221bfcf8b07b3aa"
            ],
            "layout": "IPY_MODEL_7be497e714a94ace882d946142ede760"
          }
        },
        "46bad6a8890b4c00b92a4a16f6d1b1d5": {
          "model_module": "@jupyter-widgets/controls",
          "model_module_version": "1.5.0",
          "model_name": "FloatProgressModel",
          "state": {
            "_dom_classes": [],
            "_model_module": "@jupyter-widgets/controls",
            "_model_module_version": "1.5.0",
            "_model_name": "FloatProgressModel",
            "_view_count": null,
            "_view_module": "@jupyter-widgets/controls",
            "_view_module_version": "1.5.0",
            "_view_name": "ProgressView",
            "bar_style": "success",
            "description": "",
            "description_tooltip": null,
            "layout": "IPY_MODEL_6635dc78cd1e4ff99eb5cd027af2835e",
            "max": 4,
            "min": 0,
            "orientation": "horizontal",
            "style": "IPY_MODEL_f8d1a78f2388485183737efdf9704d08",
            "value": 4
          }
        },
        "4f47ebba0e2d4b7d88816b5cad9831bb": {
          "model_module": "@jupyter-widgets/base",
          "model_module_version": "1.2.0",
          "model_name": "LayoutModel",
          "state": {
            "_model_module": "@jupyter-widgets/base",
            "_model_module_version": "1.2.0",
            "_model_name": "LayoutModel",
            "_view_count": null,
            "_view_module": "@jupyter-widgets/base",
            "_view_module_version": "1.2.0",
            "_view_name": "LayoutView",
            "align_content": null,
            "align_items": null,
            "align_self": null,
            "border": null,
            "bottom": null,
            "display": null,
            "flex": null,
            "flex_flow": null,
            "grid_area": null,
            "grid_auto_columns": null,
            "grid_auto_flow": null,
            "grid_auto_rows": null,
            "grid_column": null,
            "grid_gap": null,
            "grid_row": null,
            "grid_template_areas": null,
            "grid_template_columns": null,
            "grid_template_rows": null,
            "height": null,
            "justify_content": null,
            "justify_items": null,
            "left": null,
            "margin": null,
            "max_height": null,
            "max_width": null,
            "min_height": null,
            "min_width": null,
            "object_fit": null,
            "object_position": null,
            "order": null,
            "overflow": null,
            "overflow_x": null,
            "overflow_y": null,
            "padding": null,
            "right": null,
            "top": null,
            "visibility": null,
            "width": null
          }
        },
        "63a0cbdbaf6649aca621ca42d786bb54": {
          "model_module": "@jupyter-widgets/base",
          "model_module_version": "1.2.0",
          "model_name": "LayoutModel",
          "state": {
            "_model_module": "@jupyter-widgets/base",
            "_model_module_version": "1.2.0",
            "_model_name": "LayoutModel",
            "_view_count": null,
            "_view_module": "@jupyter-widgets/base",
            "_view_module_version": "1.2.0",
            "_view_name": "LayoutView",
            "align_content": null,
            "align_items": null,
            "align_self": null,
            "border": null,
            "bottom": null,
            "display": null,
            "flex": null,
            "flex_flow": null,
            "grid_area": null,
            "grid_auto_columns": null,
            "grid_auto_flow": null,
            "grid_auto_rows": null,
            "grid_column": null,
            "grid_gap": null,
            "grid_row": null,
            "grid_template_areas": null,
            "grid_template_columns": null,
            "grid_template_rows": null,
            "height": null,
            "justify_content": null,
            "justify_items": null,
            "left": null,
            "margin": null,
            "max_height": null,
            "max_width": null,
            "min_height": null,
            "min_width": null,
            "object_fit": null,
            "object_position": null,
            "order": null,
            "overflow": null,
            "overflow_x": null,
            "overflow_y": null,
            "padding": null,
            "right": null,
            "top": null,
            "visibility": null,
            "width": null
          }
        },
        "6635dc78cd1e4ff99eb5cd027af2835e": {
          "model_module": "@jupyter-widgets/base",
          "model_module_version": "1.2.0",
          "model_name": "LayoutModel",
          "state": {
            "_model_module": "@jupyter-widgets/base",
            "_model_module_version": "1.2.0",
            "_model_name": "LayoutModel",
            "_view_count": null,
            "_view_module": "@jupyter-widgets/base",
            "_view_module_version": "1.2.0",
            "_view_name": "LayoutView",
            "align_content": null,
            "align_items": null,
            "align_self": null,
            "border": null,
            "bottom": null,
            "display": null,
            "flex": null,
            "flex_flow": null,
            "grid_area": null,
            "grid_auto_columns": null,
            "grid_auto_flow": null,
            "grid_auto_rows": null,
            "grid_column": null,
            "grid_gap": null,
            "grid_row": null,
            "grid_template_areas": null,
            "grid_template_columns": null,
            "grid_template_rows": null,
            "height": null,
            "justify_content": null,
            "justify_items": null,
            "left": null,
            "margin": null,
            "max_height": null,
            "max_width": null,
            "min_height": null,
            "min_width": null,
            "object_fit": null,
            "object_position": null,
            "order": null,
            "overflow": null,
            "overflow_x": null,
            "overflow_y": null,
            "padding": null,
            "right": null,
            "top": null,
            "visibility": null,
            "width": null
          }
        },
        "6e82759696524f70b72a4598b3ebc988": {
          "model_module": "@jupyter-widgets/controls",
          "model_module_version": "1.5.0",
          "model_name": "DescriptionStyleModel",
          "state": {
            "_model_module": "@jupyter-widgets/controls",
            "_model_module_version": "1.5.0",
            "_model_name": "DescriptionStyleModel",
            "_view_count": null,
            "_view_module": "@jupyter-widgets/base",
            "_view_module_version": "1.2.0",
            "_view_name": "StyleView",
            "description_width": ""
          }
        },
        "7be497e714a94ace882d946142ede760": {
          "model_module": "@jupyter-widgets/base",
          "model_module_version": "1.2.0",
          "model_name": "LayoutModel",
          "state": {
            "_model_module": "@jupyter-widgets/base",
            "_model_module_version": "1.2.0",
            "_model_name": "LayoutModel",
            "_view_count": null,
            "_view_module": "@jupyter-widgets/base",
            "_view_module_version": "1.2.0",
            "_view_name": "LayoutView",
            "align_content": null,
            "align_items": null,
            "align_self": null,
            "border": null,
            "bottom": null,
            "display": null,
            "flex": null,
            "flex_flow": null,
            "grid_area": null,
            "grid_auto_columns": null,
            "grid_auto_flow": null,
            "grid_auto_rows": null,
            "grid_column": null,
            "grid_gap": null,
            "grid_row": null,
            "grid_template_areas": null,
            "grid_template_columns": null,
            "grid_template_rows": null,
            "height": null,
            "justify_content": null,
            "justify_items": null,
            "left": null,
            "margin": null,
            "max_height": null,
            "max_width": null,
            "min_height": null,
            "min_width": null,
            "object_fit": null,
            "object_position": null,
            "order": null,
            "overflow": null,
            "overflow_x": null,
            "overflow_y": null,
            "padding": null,
            "right": null,
            "top": null,
            "visibility": null,
            "width": null
          }
        },
        "b1729637e9be4b5ea221bfcf8b07b3aa": {
          "model_module": "@jupyter-widgets/controls",
          "model_module_version": "1.5.0",
          "model_name": "HTMLModel",
          "state": {
            "_dom_classes": [],
            "_model_module": "@jupyter-widgets/controls",
            "_model_module_version": "1.5.0",
            "_model_name": "HTMLModel",
            "_view_count": null,
            "_view_module": "@jupyter-widgets/controls",
            "_view_module_version": "1.5.0",
            "_view_name": "HTMLView",
            "description": "",
            "description_tooltip": null,
            "layout": "IPY_MODEL_63a0cbdbaf6649aca621ca42d786bb54",
            "placeholder": "​",
            "style": "IPY_MODEL_6e82759696524f70b72a4598b3ebc988",
            "value": " 4/4 [00:00&lt;00:00,  5.13 file/s]"
          }
        },
        "c19136142d3645518e9b73567b674f2d": {
          "model_module": "@jupyter-widgets/controls",
          "model_module_version": "1.5.0",
          "model_name": "DescriptionStyleModel",
          "state": {
            "_model_module": "@jupyter-widgets/controls",
            "_model_module_version": "1.5.0",
            "_model_name": "DescriptionStyleModel",
            "_view_count": null,
            "_view_module": "@jupyter-widgets/base",
            "_view_module_version": "1.2.0",
            "_view_name": "StyleView",
            "description_width": ""
          }
        },
        "caaa10c787b245f096b44a626a887871": {
          "model_module": "@jupyter-widgets/controls",
          "model_module_version": "1.5.0",
          "model_name": "HTMLModel",
          "state": {
            "_dom_classes": [],
            "_model_module": "@jupyter-widgets/controls",
            "_model_module_version": "1.5.0",
            "_model_name": "HTMLModel",
            "_view_count": null,
            "_view_module": "@jupyter-widgets/controls",
            "_view_module_version": "1.5.0",
            "_view_name": "HTMLView",
            "description": "",
            "description_tooltip": null,
            "layout": "IPY_MODEL_4f47ebba0e2d4b7d88816b5cad9831bb",
            "placeholder": "​",
            "style": "IPY_MODEL_c19136142d3645518e9b73567b674f2d",
            "value": "Dl Completed...: 100%"
          }
        },
        "f8d1a78f2388485183737efdf9704d08": {
          "model_module": "@jupyter-widgets/controls",
          "model_module_version": "1.5.0",
          "model_name": "ProgressStyleModel",
          "state": {
            "_model_module": "@jupyter-widgets/controls",
            "_model_module_version": "1.5.0",
            "_model_name": "ProgressStyleModel",
            "_view_count": null,
            "_view_module": "@jupyter-widgets/base",
            "_view_module_version": "1.2.0",
            "_view_name": "StyleView",
            "bar_color": null,
            "description_width": ""
          }
        }
      }
    }
  },
  "nbformat": 4,
  "nbformat_minor": 0
}
