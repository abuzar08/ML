{
  "nbformat": 4,
  "nbformat_minor": 0,
  "metadata": {
    "colab": {
      "name": "TF_Model_Subclassing.ipynb",
      "provenance": []
    },
    "kernelspec": {
      "name": "python3",
      "display_name": "Python 3"
    },
    "language_info": {
      "name": "python"
    },
    "accelerator": "GPU"
  },
  "cells": [
    {
      "cell_type": "code",
      "execution_count": 1,
      "metadata": {
        "id": "CW4UznHQ81kx"
      },
      "outputs": [],
      "source": [
        "import tensorflow as tf\n",
        "from tensorflow import keras\n",
        "from tensorflow.keras import layers, datasets"
      ]
    },
    {
      "cell_type": "markdown",
      "source": [
        "## Data"
      ],
      "metadata": {
        "id": "VbRQKnak9Hhj"
      }
    },
    {
      "cell_type": "code",
      "source": [
        "mnist  = datasets.mnist"
      ],
      "metadata": {
        "id": "abtfHp3r9FP0"
      },
      "execution_count": 2,
      "outputs": []
    },
    {
      "cell_type": "code",
      "source": [
        "(x_train, y_train), (x_test, y_test) = mnist.load_data()"
      ],
      "metadata": {
        "colab": {
          "base_uri": "https://localhost:8080/"
        },
        "id": "iIyNr5IS9LXE",
        "outputId": "6bb00604-6389-499c-9a1c-bc35352f60f3"
      },
      "execution_count": 3,
      "outputs": [
        {
          "output_type": "stream",
          "name": "stdout",
          "text": [
            "Downloading data from https://storage.googleapis.com/tensorflow/tf-keras-datasets/mnist.npz\n",
            "11493376/11490434 [==============================] - 0s 0us/step\n",
            "11501568/11490434 [==============================] - 0s 0us/step\n"
          ]
        }
      ]
    },
    {
      "cell_type": "code",
      "source": [
        "def mould(data):\n",
        "  return data.reshape(-1, 28,28,1).astype(\"float32\") / 255.0\n",
        "\n",
        "x_train, x_test = mould(x_train), mould(x_test)"
      ],
      "metadata": {
        "id": "ZpRJHCxV9RpX"
      },
      "execution_count": 4,
      "outputs": []
    },
    {
      "cell_type": "markdown",
      "source": [
        "## Model\n"
      ],
      "metadata": {
        "id": "0uIezlp-CnqY"
      }
    },
    {
      "cell_type": "code",
      "source": [
        "class CNNBlock(layers.Layer):\n",
        "  def __init__(self, out_channels, kernel_size=3):\n",
        "    super().__init__()\n",
        "    self.conv = layers.Conv2D(out_channels, kernel_size, padding='same')\n",
        "    self.bn = layers.BatchNormalization()\n",
        "\n",
        "  def call(self, x, training = False):\n",
        "    out = self.conv(x)\n",
        "    out = self.bn(out)\n",
        "    out = tf.nn.relu(out)\n",
        "    return out"
      ],
      "metadata": {
        "id": "BLgInj-J9lyv"
      },
      "execution_count": 21,
      "outputs": []
    },
    {
      "cell_type": "code",
      "source": [
        "class ResBlock(layers.Layer):\n",
        "  def __init__(self, channels):\n",
        "    super().__init__()\n",
        "    self.cnn1 = CNNBlock(channels[0])\n",
        "    self.cnn2 = CNNBlock(channels[1])\n",
        "    self.cnn3 = CNNBlock(channels[2])\n",
        "    self.pool = layers.MaxPooling2D()\n",
        "    self.identity_mapping = layers.Conv2D(channels[1], 1)\n",
        "  \n",
        "  def call(self, x, training=False):\n",
        "    out = self.cnn1(x, training=training)\n",
        "    out = self.cnn2(out, training=training)\n",
        "    out = self.cnn3(\n",
        "        out + self.identity_mapping(x), training = training\n",
        "    )\n",
        "    out = self.pool(out)\n",
        "    return out"
      ],
      "metadata": {
        "id": "0bJukPvoGALk"
      },
      "execution_count": 24,
      "outputs": []
    },
    {
      "cell_type": "code",
      "source": [
        "class ResNet_Lite(keras.Model):\n",
        "  def __init__(self, num_classes):\n",
        "    super().__init__()\n",
        "    self.block1 = ResBlock([32,32,64])\n",
        "    self.block2 = ResBlock([64, 128, 128])\n",
        "    self.block3 = ResBlock([128, 256, 512])\n",
        "    self.pool = layers.GlobalAveragePooling2D()\n",
        "    self.mlp = layers.Dense(num_classes)\n",
        "  \n",
        "  def call(self, x, training=False):\n",
        "\n",
        "    out = self.block1(x, training)\n",
        "    out = self.block2(out, training)\n",
        "    out = self.block3(out, training)\n",
        "    out = self.pool(out)\n",
        "\n",
        "    return self.mlp(out)\n",
        "\n",
        "\n"
      ],
      "metadata": {
        "id": "6L0f4dxOIXkE"
      },
      "execution_count": 26,
      "outputs": []
    },
    {
      "cell_type": "code",
      "source": [
        "model_1 = keras.Sequential(\n",
        "    [\n",
        "     keras.Input(shape=(28,28,1)),\n",
        "     CNNBlock(32),\n",
        "     CNNBlock(64),\n",
        "     CNNBlock(128),\n",
        "     layers.Flatten(),\n",
        "     layers.Dense(10),\n",
        "    ]\n",
        ")\n",
        "\n",
        "model_1.compile(\n",
        "    optimizer = keras.optimizers.Adam(),\n",
        "    loss = keras.losses.SparseCategoricalCrossentropy(from_logits=True),\n",
        "    metrics = [\"accuracy\"]\n",
        ")"
      ],
      "metadata": {
        "id": "3V9KeS-qDwaH"
      },
      "execution_count": 25,
      "outputs": []
    },
    {
      "cell_type": "code",
      "source": [
        "model.summary()"
      ],
      "metadata": {
        "colab": {
          "base_uri": "https://localhost:8080/"
        },
        "id": "ETD6zT5rEHP1",
        "outputId": "a6a30c73-c115-4d46-97c9-dbb968a1b227"
      },
      "execution_count": 12,
      "outputs": [
        {
          "output_type": "stream",
          "name": "stdout",
          "text": [
            "Model: \"sequential_2\"\n",
            "_________________________________________________________________\n",
            " Layer (type)                Output Shape              Param #   \n",
            "=================================================================\n",
            " cnn_block_6 (CNNBlock)      (None, 26, 26, 32)        448       \n",
            "                                                                 \n",
            " cnn_block_7 (CNNBlock)      (None, 24, 24, 64)        18752     \n",
            "                                                                 \n",
            " cnn_block_8 (CNNBlock)      (None, 22, 22, 128)       74368     \n",
            "                                                                 \n",
            " flatten_2 (Flatten)         (None, 61952)             0         \n",
            "                                                                 \n",
            " dense_2 (Dense)             (None, 10)                619530    \n",
            "                                                                 \n",
            "=================================================================\n",
            "Total params: 713,098\n",
            "Trainable params: 712,650\n",
            "Non-trainable params: 448\n",
            "_________________________________________________________________\n"
          ]
        }
      ]
    },
    {
      "cell_type": "code",
      "source": [
        "model.fit(x_train, y_train, batch_size = 64, epochs=10, verbose = 2)"
      ],
      "metadata": {
        "colab": {
          "base_uri": "https://localhost:8080/"
        },
        "id": "-brzt5xBEJYV",
        "outputId": "d1a18569-6e07-40b2-e0f6-934892351730"
      },
      "execution_count": 13,
      "outputs": [
        {
          "output_type": "stream",
          "name": "stdout",
          "text": [
            "Epoch 1/10\n",
            "938/938 - 20s - loss: 0.4659 - accuracy: 0.9477 - 20s/epoch - 21ms/step\n",
            "Epoch 2/10\n",
            "938/938 - 8s - loss: 0.0880 - accuracy: 0.9811 - 8s/epoch - 8ms/step\n",
            "Epoch 3/10\n",
            "938/938 - 8s - loss: 0.0392 - accuracy: 0.9884 - 8s/epoch - 9ms/step\n",
            "Epoch 4/10\n",
            "938/938 - 8s - loss: 0.0279 - accuracy: 0.9915 - 8s/epoch - 8ms/step\n",
            "Epoch 5/10\n",
            "938/938 - 8s - loss: 0.0230 - accuracy: 0.9924 - 8s/epoch - 8ms/step\n",
            "Epoch 6/10\n",
            "938/938 - 8s - loss: 0.0229 - accuracy: 0.9926 - 8s/epoch - 9ms/step\n",
            "Epoch 7/10\n",
            "938/938 - 8s - loss: 0.0176 - accuracy: 0.9947 - 8s/epoch - 8ms/step\n",
            "Epoch 8/10\n",
            "938/938 - 8s - loss: 0.0152 - accuracy: 0.9948 - 8s/epoch - 9ms/step\n",
            "Epoch 9/10\n",
            "938/938 - 8s - loss: 0.0136 - accuracy: 0.9953 - 8s/epoch - 9ms/step\n",
            "Epoch 10/10\n",
            "938/938 - 8s - loss: 0.0107 - accuracy: 0.9965 - 8s/epoch - 9ms/step\n"
          ]
        },
        {
          "output_type": "execute_result",
          "data": {
            "text/plain": [
              "<keras.callbacks.History at 0x7f5010451310>"
            ]
          },
          "metadata": {},
          "execution_count": 13
        }
      ]
    },
    {
      "cell_type": "code",
      "source": [
        "model.evaluate(x_test, y_test, batch_size=64, verbose=2)"
      ],
      "metadata": {
        "colab": {
          "base_uri": "https://localhost:8080/"
        },
        "id": "GeDpkOGPEd4_",
        "outputId": "e1c1d77a-d3c3-4488-a90a-37d95265cc64"
      },
      "execution_count": 14,
      "outputs": [
        {
          "output_type": "stream",
          "name": "stdout",
          "text": [
            "157/157 - 1s - loss: 0.0453 - accuracy: 0.9876 - 928ms/epoch - 6ms/step\n"
          ]
        },
        {
          "output_type": "execute_result",
          "data": {
            "text/plain": [
              "[0.045340634882450104, 0.9876000285148621]"
            ]
          },
          "metadata": {},
          "execution_count": 14
        }
      ]
    },
    {
      "cell_type": "code",
      "source": [
        "model = keras.Sequential(\n",
        "    [\n",
        "    keras.Input(shape=(28,28,1)),\n",
        "    ResNet_Lite(10)\n",
        "    ]\n",
        ")"
      ],
      "metadata": {
        "id": "pqU2Yv4SEiOS"
      },
      "execution_count": 32,
      "outputs": []
    },
    {
      "cell_type": "code",
      "source": [
        "model.summary()"
      ],
      "metadata": {
        "colab": {
          "base_uri": "https://localhost:8080/"
        },
        "id": "2luJ1AkvSZcb",
        "outputId": "13e39d57-59de-44aa-eb4d-8f16b148e663"
      },
      "execution_count": 33,
      "outputs": [
        {
          "output_type": "stream",
          "name": "stdout",
          "text": [
            "Model: \"sequential_8\"\n",
            "_________________________________________________________________\n",
            " Layer (type)                Output Shape              Param #   \n",
            "=================================================================\n",
            " res_net__lite_3 (ResNet_Lit  (None, 10)               1961258   \n",
            " e)                                                              \n",
            "                                                                 \n",
            "=================================================================\n",
            "Total params: 1,961,258\n",
            "Trainable params: 1,958,570\n",
            "Non-trainable params: 2,688\n",
            "_________________________________________________________________\n"
          ]
        }
      ]
    },
    {
      "cell_type": "code",
      "source": [
        "# from tensorflow.python.ops.gen_nn_ops import LRN\n",
        "model.compile(\n",
        "    loss = keras.losses.SparseCategoricalCrossentropy(from_logits=True),\n",
        "    optimizer = keras.optimizers.Adam(),\n",
        "    metrics = [\"accuracy\"]\n",
        ")"
      ],
      "metadata": {
        "id": "E92vatZMSbBP"
      },
      "execution_count": 35,
      "outputs": []
    },
    {
      "cell_type": "code",
      "source": [
        "model.fit(x_train, y_train, batch_size = 64, epochs = 10, verbose = 2)"
      ],
      "metadata": {
        "colab": {
          "base_uri": "https://localhost:8080/"
        },
        "id": "TWqiSaHITDcw",
        "outputId": "60ece13c-4726-4b8e-d9ca-081b9864e50b"
      },
      "execution_count": 36,
      "outputs": [
        {
          "output_type": "stream",
          "name": "stdout",
          "text": [
            "Epoch 1/10\n",
            "938/938 - 22s - loss: 0.0818 - accuracy: 0.9743 - 22s/epoch - 23ms/step\n",
            "Epoch 2/10\n",
            "938/938 - 17s - loss: 0.0338 - accuracy: 0.9895 - 17s/epoch - 19ms/step\n",
            "Epoch 3/10\n",
            "938/938 - 18s - loss: 0.0280 - accuracy: 0.9917 - 18s/epoch - 19ms/step\n",
            "Epoch 4/10\n",
            "938/938 - 18s - loss: 0.0241 - accuracy: 0.9926 - 18s/epoch - 19ms/step\n",
            "Epoch 5/10\n",
            "938/938 - 18s - loss: 0.0198 - accuracy: 0.9937 - 18s/epoch - 19ms/step\n",
            "Epoch 6/10\n",
            "938/938 - 18s - loss: 0.0194 - accuracy: 0.9937 - 18s/epoch - 19ms/step\n",
            "Epoch 7/10\n",
            "938/938 - 18s - loss: 0.0151 - accuracy: 0.9950 - 18s/epoch - 19ms/step\n",
            "Epoch 8/10\n",
            "938/938 - 18s - loss: 0.0148 - accuracy: 0.9950 - 18s/epoch - 19ms/step\n",
            "Epoch 9/10\n",
            "938/938 - 18s - loss: 0.0140 - accuracy: 0.9956 - 18s/epoch - 19ms/step\n",
            "Epoch 10/10\n",
            "938/938 - 18s - loss: 0.0108 - accuracy: 0.9966 - 18s/epoch - 19ms/step\n"
          ]
        },
        {
          "output_type": "execute_result",
          "data": {
            "text/plain": [
              "<keras.callbacks.History at 0x7f4f9c0a0690>"
            ]
          },
          "metadata": {},
          "execution_count": 36
        }
      ]
    },
    {
      "cell_type": "code",
      "source": [
        "model.evaluate(x_test, y_test, batch_size = 64, verbose = 2)"
      ],
      "metadata": {
        "colab": {
          "base_uri": "https://localhost:8080/"
        },
        "id": "vb7d_R2WTVdW",
        "outputId": "410c78f2-1fc4-48c8-bf34-33d216c34b45"
      },
      "execution_count": 37,
      "outputs": [
        {
          "output_type": "stream",
          "name": "stdout",
          "text": [
            "157/157 - 1s - loss: 0.0246 - accuracy: 0.9924 - 1s/epoch - 10ms/step\n"
          ]
        },
        {
          "output_type": "execute_result",
          "data": {
            "text/plain": [
              "[0.02463269606232643, 0.9923999905586243]"
            ]
          },
          "metadata": {},
          "execution_count": 37
        }
      ]
    },
    {
      "cell_type": "code",
      "source": [
        ""
      ],
      "metadata": {
        "id": "uRB0ZKWcTaat"
      },
      "execution_count": null,
      "outputs": []
    }
  ]
}