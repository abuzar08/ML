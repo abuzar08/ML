{
  "nbformat": 4,
  "nbformat_minor": 0,
  "metadata": {
    "colab": {
      "name": "tf_Datasets.ipynb",
      "provenance": [],
      "collapsed_sections": [
        "G10wUW6TtNko",
        "a4B5_65J9Ifl"
      ]
    },
    "kernelspec": {
      "name": "python3",
      "display_name": "Python 3"
    },
    "language_info": {
      "name": "python"
    },
    "accelerator": "GPU"
  },
  "cells": [
    {
      "cell_type": "code",
      "execution_count": null,
      "metadata": {
        "id": "0z-NE86Hin7i"
      },
      "outputs": [],
      "source": [
        "import tensorflow as tf\n",
        "from tensorflow import keras\n",
        "from tensorflow.keras import layers\n",
        "import tensorflow_datasets as tfds"
      ]
    },
    {
      "cell_type": "markdown",
      "source": [
        "## MNIST"
      ],
      "metadata": {
        "id": "G10wUW6TtNko"
      }
    },
    {
      "cell_type": "code",
      "source": [
        "(ds_train, ds_test), ds_info = tfds.load(\n",
        "    \"mnist\",\n",
        "    split = [\"train\", \"test\"], # Some datasets have \"validation\" too\n",
        "    shuffle_files = True,\n",
        "    as_supervised=True, #(image, label)\n",
        "    with_info=True\n",
        ")"
      ],
      "metadata": {
        "id": "Ths5bEAQi4F_"
      },
      "execution_count": null,
      "outputs": []
    },
    {
      "cell_type": "code",
      "source": [
        "ds_info"
      ],
      "metadata": {
        "colab": {
          "base_uri": "https://localhost:8080/"
        },
        "id": "Z70v-nHU8Gb7",
        "outputId": "43f5cb2e-fc08-4e21-e53c-8e63aa44b587"
      },
      "execution_count": null,
      "outputs": [
        {
          "output_type": "execute_result",
          "data": {
            "text/plain": [
              "tfds.core.DatasetInfo(\n",
              "    name='mnist',\n",
              "    version=3.0.1,\n",
              "    description='The MNIST database of handwritten digits.',\n",
              "    homepage='http://yann.lecun.com/exdb/mnist/',\n",
              "    features=FeaturesDict({\n",
              "        'image': Image(shape=(28, 28, 1), dtype=tf.uint8),\n",
              "        'label': ClassLabel(shape=(), dtype=tf.int64, num_classes=10),\n",
              "    }),\n",
              "    total_num_examples=70000,\n",
              "    splits={\n",
              "        'test': 10000,\n",
              "        'train': 60000,\n",
              "    },\n",
              "    supervised_keys=('image', 'label'),\n",
              "    citation=\"\"\"@article{lecun2010mnist,\n",
              "      title={MNIST handwritten digit database},\n",
              "      author={LeCun, Yann and Cortes, Corinna and Burges, CJ},\n",
              "      journal={ATT Labs [Online]. Available: http://yann.lecun.com/exdb/mnist},\n",
              "      volume={2},\n",
              "      year={2010}\n",
              "    }\"\"\",\n",
              "    redistribution_info=,\n",
              ")"
            ]
          },
          "metadata": {},
          "execution_count": 4
        }
      ]
    },
    {
      "cell_type": "code",
      "source": [
        "fig = tfds.show_examples(ds_train, ds_info, rows=4, cols=4)"
      ],
      "metadata": {
        "colab": {
          "base_uri": "https://localhost:8080/"
        },
        "id": "XaI7D1QB8H0g",
        "outputId": "666f89fb-d0b7-4751-d4dc-42a215d97560"
      },
      "execution_count": null,
      "outputs": [
        {
          "output_type": "display_data",
          "data": {
            "image/png": "[encoded data removed]",
            "text/plain": [
              "<Figure size 864x864 with 16 Axes>"
            ]
          },
          "metadata": {}
        }
      ]
    },
    {
      "cell_type": "code",
      "source": [
        "def nornalize_img(img, label):\n",
        "  '''\n",
        "  Normalize images\n",
        "  '''\n",
        "  return tf.cast(img, tf.float32)/255.0, label"
      ],
      "metadata": {
        "id": "vsyoeCZ68YXp"
      },
      "execution_count": null,
      "outputs": []
    },
    {
      "cell_type": "code",
      "source": [
        "AUTOTUNE = tf.data.experimental.AUTOTUNE\n",
        "BATCH_SIZE = 64\n",
        "\n",
        "ds_train = ds_train.map(nornalize_img, num_parallel_calls=AUTOTUNE)\n",
        "ds_train = ds_train.cache()\n",
        "ds_train = ds_train.shuffle(ds_info.splits[\"train\"].num_examples)\n",
        "ds_train = ds_train.batch(BATCH_SIZE)\n",
        "ds_train = ds_train.prefetch(AUTOTUNE)\n",
        "\n",
        "ds_test = ds_test.map(nornalize_img, num_parallel_calls=AUTOTUNE)\n",
        "ds_test = ds_test.batch(BATCH_SIZE)\n",
        "ds_test = ds_test.prefetch(AUTOTUNE)\n"
      ],
      "metadata": {
        "id": "3jpITrd68rHC"
      },
      "execution_count": null,
      "outputs": []
    },
    {
      "cell_type": "code",
      "source": [
        "model = keras.Sequential(\n",
        "    [\n",
        "     keras.Input(shape=(28,28,1)),\n",
        "     layers.Conv2D(32,3,activation='relu'),\n",
        "     layers.Flatten(),\n",
        "     layers.Dense(10)\n",
        "    ]\n",
        ")\n",
        "\n",
        "model.compile(\n",
        "    loss = keras.losses.SparseCategoricalCrossentropy(from_logits=True),\n",
        "    optimizer = keras.optimizers.Adam(),\n",
        "    metrics = [\"accuracy\"]\n",
        ")"
      ],
      "metadata": {
        "id": "Q5o1YDyw9u9d"
      },
      "execution_count": null,
      "outputs": []
    },
    {
      "cell_type": "code",
      "source": [
        "model.fit(ds_train, epochs=5, verbose = 2)"
      ],
      "metadata": {
        "colab": {
          "base_uri": "https://localhost:8080/"
        },
        "id": "B2lfDdd6-IKJ",
        "outputId": "e3f6e9a3-3263-4d3f-efdd-229de2a80443"
      },
      "execution_count": null,
      "outputs": [
        {
          "output_type": "stream",
          "name": "stdout",
          "text": [
            "Epoch 1/5\n",
            "938/938 - 17s - loss: 0.2032 - accuracy: 0.9422 - 17s/epoch - 18ms/step\n",
            "Epoch 2/5\n",
            "938/938 - 2s - loss: 0.0727 - accuracy: 0.9785 - 2s/epoch - 2ms/step\n",
            "Epoch 3/5\n",
            "938/938 - 2s - loss: 0.0512 - accuracy: 0.9851 - 2s/epoch - 2ms/step\n",
            "Epoch 4/5\n",
            "938/938 - 2s - loss: 0.0393 - accuracy: 0.9880 - 2s/epoch - 2ms/step\n",
            "Epoch 5/5\n",
            "938/938 - 2s - loss: 0.0310 - accuracy: 0.9907 - 2s/epoch - 2ms/step\n"
          ]
        },
        {
          "output_type": "execute_result",
          "data": {
            "text/plain": [
              "<keras.callbacks.History at 0x7fe50a954a10>"
            ]
          },
          "metadata": {},
          "execution_count": 8
        }
      ]
    },
    {
      "cell_type": "code",
      "source": [
        "model.evaluate(ds_test, verbose = 2)"
      ],
      "metadata": {
        "colab": {
          "base_uri": "https://localhost:8080/"
        },
        "id": "Cbc_qFil-QbC",
        "outputId": "e61720f1-4c62-4ac7-d112-f3fb063eeeba"
      },
      "execution_count": null,
      "outputs": [
        {
          "output_type": "stream",
          "name": "stdout",
          "text": [
            "157/157 - 1s - loss: 0.0594 - accuracy: 0.9813 - 1s/epoch - 7ms/step\n"
          ]
        },
        {
          "output_type": "execute_result",
          "data": {
            "text/plain": [
              "[0.05944066122174263, 0.9812999963760376]"
            ]
          },
          "metadata": {},
          "execution_count": 9
        }
      ]
    },
    {
      "cell_type": "markdown",
      "source": [
        "## IMDB - Dataset Reviews"
      ],
      "metadata": {
        "id": "a4B5_65J9Ifl"
      }
    },
    {
      "cell_type": "code",
      "source": [
        "(ds_train, ds_test), ds_info =tfds.load(\n",
        "    \"imdb_reviews\",\n",
        "    split = [\"train\", \"test\"],\n",
        "    shuffle_files = True,\n",
        "    as_supervised = True,\n",
        "    with_info = True\n",
        ")\n",
        "\n",
        "print(ds_info)"
      ],
      "metadata": {
        "colab": {
          "base_uri": "https://localhost:8080/"
        },
        "id": "Hkh5hrNz-e6u",
        "outputId": "5c4b80ba-db23-4499-808d-165e578ff638"
      },
      "execution_count": null,
      "outputs": [
        {
          "output_type": "stream",
          "name": "stdout",
          "text": [
            "tfds.core.DatasetInfo(\n",
            "    name='imdb_reviews',\n",
            "    version=1.0.0,\n",
            "    description='Large Movie Review Dataset.\n",
            "This is a dataset for binary sentiment classification containing substantially more data than previous benchmark datasets. We provide a set of 25,000 highly polar movie reviews for training, and 25,000 for testing. There is additional unlabeled data for use as well.',\n",
            "    homepage='http://ai.stanford.edu/~amaas/data/sentiment/',\n",
            "    features=FeaturesDict({\n",
            "        'label': ClassLabel(shape=(), dtype=tf.int64, num_classes=2),\n",
            "        'text': Text(shape=(), dtype=tf.string),\n",
            "    }),\n",
            "    total_num_examples=100000,\n",
            "    splits={\n",
            "        'test': 25000,\n",
            "        'train': 25000,\n",
            "        'unsupervised': 50000,\n",
            "    },\n",
            "    supervised_keys=('text', 'label'),\n",
            "    citation=\"\"\"@InProceedings{maas-EtAl:2011:ACL-HLT2011,\n",
            "      author    = {Maas, Andrew L.  and  Daly, Raymond E.  and  Pham, Peter T.  and  Huang, Dan  and  Ng, Andrew Y.  and  Potts, Christopher},\n",
            "      title     = {Learning Word Vectors for Sentiment Analysis},\n",
            "      booktitle = {Proceedings of the 49th Annual Meeting of the Association for Computational Linguistics: Human Language Technologies},\n",
            "      month     = {June},\n",
            "      year      = {2011},\n",
            "      address   = {Portland, Oregon, USA},\n",
            "      publisher = {Association for Computational Linguistics},\n",
            "      pages     = {142--150},\n",
            "      url       = {http://www.aclweb.org/anthology/P11-1015}\n",
            "    }\"\"\",\n",
            "    redistribution_info=,\n",
            ")\n",
            "\n"
          ]
        }
      ]
    },
    {
      "cell_type": "code",
      "source": [
        "# Tokenizing this dataset\n",
        "tokenizer = tfds.deprecated.text.Tokenizer()"
      ],
      "metadata": {
        "id": "LfFC3Anx-0FQ"
      },
      "execution_count": null,
      "outputs": []
    },
    {
      "cell_type": "code",
      "source": [
        "def build_vocab():\n",
        "  vocab = set()\n",
        "  for text,_ in ds_train:\n",
        "    vocab.update(tokenizer.tokenize(text.numpy().lower()))\n",
        "  return vocab"
      ],
      "metadata": {
        "id": "_Y8ftU-T_N7A"
      },
      "execution_count": null,
      "outputs": []
    },
    {
      "cell_type": "code",
      "source": [
        "vocab = build_vocab()"
      ],
      "metadata": {
        "id": "a4RG2KGhA8te"
      },
      "execution_count": null,
      "outputs": []
    },
    {
      "cell_type": "code",
      "source": [
        "encoder = tfds.deprecated.text.TokenTextEncoder(\n",
        "    vocab,\n",
        "    oov_token = \"<UNK>\",\n",
        "    lowercase=True,\n",
        "    tokenizer = tokenizer\n",
        ")"
      ],
      "metadata": {
        "id": "mJh-ZOF2A91g"
      },
      "execution_count": null,
      "outputs": []
    },
    {
      "cell_type": "code",
      "source": [
        "def my_encoding(text_tensor, label):\n",
        "  return encoder.encode(text_tensor.numpy()), label"
      ],
      "metadata": {
        "id": "lwSQG_qVCF5j"
      },
      "execution_count": null,
      "outputs": []
    },
    {
      "cell_type": "code",
      "source": [
        "def encode_map(text, label):\n",
        "  encoded_text, label = tf.py_function(\n",
        "      my_encoding,\n",
        "      inp = [text, label],\n",
        "      Tout = (tf.int64, tf.int64)\n",
        "  )\n",
        "\n",
        "  encoded_text.set_shape([None])\n",
        "  label.set_shape([])\n",
        "\n",
        "  return encoded_text, label"
      ],
      "metadata": {
        "id": "WHnqJiDzCePm"
      },
      "execution_count": null,
      "outputs": []
    },
    {
      "cell_type": "code",
      "source": [
        "AUTOTUNE = tf.data.experimental.AUTOTUNE\n",
        "ds_train = ds_train.map(encode_map, num_parallel_calls=AUTOTUNE)\n",
        "ds_train = ds_train.shuffle(10000)\n",
        "ds_train = ds_train.padded_batch(32, padded_shapes=([None], ()))\n",
        "ds_train = ds_train.prefetch(AUTOTUNE)\n",
        "ds_train = ds_train.cache()\n",
        "\n",
        "ds_test = ds_test.map(encode_map, num_parallel_calls=AUTOTUNE)\n",
        "ds_test = ds_test.padded_batch(32, padded_shapes=([None], ()))\n",
        "\n"
      ],
      "metadata": {
        "id": "gUuLbeeqDrm2"
      },
      "execution_count": null,
      "outputs": []
    },
    {
      "cell_type": "code",
      "source": [
        "model = keras.Sequential(\n",
        "    [\n",
        "     layers.Masking(mask_value=0),\n",
        "     layers.Embedding(input_dim=len(vocab)+2, output_dim = 64),\n",
        "    #  layers.LSTM(64, activation='sigmoid'),\n",
        "     layers.GlobalAveragePooling1D(),\n",
        "     layers.Dense(64, activation = 'relu'),\n",
        "     layers.Dense(1)\n",
        "    ]\n",
        ")\n",
        "\n",
        "model.compile(\n",
        "    loss = keras.losses.BinaryCrossentropy(from_logits=True),\n",
        "    optimizer = keras.optimizers.Adam(3e-4, clipnorm=1),\n",
        "    metrics = [\"accuracy\"]\n",
        ")"
      ],
      "metadata": {
        "id": "ucUuA22rExIp"
      },
      "execution_count": null,
      "outputs": []
    },
    {
      "cell_type": "code",
      "source": [
        "model.fit(ds_train, epochs = 5, verbose = 2)"
      ],
      "metadata": {
        "colab": {
          "base_uri": "https://localhost:8080/"
        },
        "id": "N34v8weXFml9",
        "outputId": "b0dd4b80-c417-452a-d87b-9bc9738c8524"
      },
      "execution_count": null,
      "outputs": [
        {
          "output_type": "stream",
          "name": "stdout",
          "text": [
            "Epoch 1/5\n",
            "782/782 - 4s - loss: 0.6550 - accuracy: 0.5350 - 4s/epoch - 5ms/step\n",
            "Epoch 2/5\n",
            "782/782 - 4s - loss: 0.4234 - accuracy: 0.7972 - 4s/epoch - 4ms/step\n",
            "Epoch 3/5\n",
            "782/782 - 4s - loss: 0.2922 - accuracy: 0.8808 - 4s/epoch - 5ms/step\n",
            "Epoch 4/5\n",
            "782/782 - 4s - loss: 0.2350 - accuracy: 0.9076 - 4s/epoch - 5ms/step\n",
            "Epoch 5/5\n",
            "782/782 - 4s - loss: 0.1972 - accuracy: 0.9248 - 4s/epoch - 4ms/step\n"
          ]
        },
        {
          "output_type": "execute_result",
          "data": {
            "text/plain": [
              "<keras.callbacks.History at 0x7fd6e0049f90>"
            ]
          },
          "metadata": {},
          "execution_count": 32
        }
      ]
    },
    {
      "cell_type": "code",
      "source": [
        "model.evaluate(ds_test, verbose = 2)"
      ],
      "metadata": {
        "colab": {
          "base_uri": "https://localhost:8080/"
        },
        "id": "fpZErHr6Fpt_",
        "outputId": "fbcb5964-5b82-4348-9534-cbfde411253c"
      },
      "execution_count": null,
      "outputs": [
        {
          "output_type": "stream",
          "name": "stdout",
          "text": [
            "782/782 - 21s - loss: 0.2913 - accuracy: 0.8660 - 21s/epoch - 27ms/step\n"
          ]
        },
        {
          "output_type": "execute_result",
          "data": {
            "text/plain": [
              "[0.29130709171295166, 0.8659600019454956]"
            ]
          },
          "metadata": {},
          "execution_count": 33
        }
      ]
    },
    {
      "cell_type": "code",
      "source": [
        "model.layers[1].weights[0].numpy().shape"
      ],
      "metadata": {
        "colab": {
          "base_uri": "https://localhost:8080/"
        },
        "id": "GvXUKLGBF6n3",
        "outputId": "4b12411c-6c83-4ac1-f49d-0073b0d58c6d"
      },
      "execution_count": null,
      "outputs": [
        {
          "output_type": "execute_result",
          "data": {
            "text/plain": [
              "(74895, 64)"
            ]
          },
          "metadata": {},
          "execution_count": 27
        }
      ]
    },
    {
      "cell_type": "code",
      "source": [
        ""
      ],
      "metadata": {
        "colab": {
          "base_uri": "https://localhost:8080/"
        },
        "id": "s8gWTHLdXp_l",
        "outputId": "2f453fd7-e42a-4d7a-ae67-c8f595b3ac8a"
      },
      "execution_count": null,
      "outputs": [
        {
          "output_type": "execute_result",
          "data": {
            "text/plain": [
              "[<keras.layers.core.masking.Masking at 0x7fd6ea84d790>,\n",
              " <keras.layers.embeddings.Embedding at 0x7fd78664c250>,\n",
              " <keras.layers.pooling.GlobalAveragePooling1D at 0x7fd6ea8524d0>,\n",
              " <keras.layers.core.dense.Dense at 0x7fd6ea870050>,\n",
              " <keras.layers.core.dense.Dense at 0x7fd77e17a7d0>]"
            ]
          },
          "metadata": {},
          "execution_count": 28
        }
      ]
    },
    {
      "cell_type": "markdown",
      "source": [
        "# CIFAR-10\n",
        "Augmentation"
      ],
      "metadata": {
        "id": "DANXKfMbtQPe"
      }
    },
    {
      "cell_type": "code",
      "source": [
        "(ds_train, ds_test), ds_info = tfds.load(\n",
        "    \"cifar10\",\n",
        "    split = [\"train\", \"test\"],\n",
        "    shuffle_files = True,\n",
        "    as_supervised = True,\n",
        "    with_info = True\n",
        ")"
      ],
      "metadata": {
        "id": "8DmjW6oYYHUL"
      },
      "execution_count": null,
      "outputs": []
    },
    {
      "cell_type": "code",
      "source": [
        "def normalize_image(img, label):\n",
        "  return tf.cast(img, tf.float32)/255.0, label"
      ],
      "metadata": {
        "id": "kZlhQxrHt0nM"
      },
      "execution_count": null,
      "outputs": []
    },
    {
      "cell_type": "code",
      "source": [
        "from tensorflow.python.ops.image_ops_impl import random_flip_left_right\n",
        "def augment(image, label):\n",
        "  new_height = new_width = 32\n",
        "  image = tf.image.resize(image, (new_height, new_width))\n",
        "\n",
        "  # Grayscale - probabalistic\n",
        "\n",
        "  if tf.random.uniform((), minval=0, maxval=1) < 0.1:\n",
        "    image = tf.tile(tf.image.rgb_to_grayscale(image), [1,1,3])\n",
        "  \n",
        "  image = tf.image.random_brightness(image, max_delta = 0.1)\n",
        "  image = tf.image.random_contrast(image, lower = 0.1, upper =0.2)\n",
        "\n",
        "  # Flipping - Careful, don't destroy label\n",
        "  image = tf.image.random_flip_left_right(image) #50%\n",
        "  # image = tf.image.random.flip_up_down(image) #50%\n",
        "\n",
        "  return image, label"
      ],
      "metadata": {
        "id": "mKs7tCkIz8QF"
      },
      "execution_count": null,
      "outputs": []
    },
    {
      "cell_type": "code",
      "source": [
        "AUTO = tf.data.experimental.AUTOTUNE\n",
        "BATCH_SIZE = 32"
      ],
      "metadata": {
        "id": "Kz68Z83Rt8vC"
      },
      "execution_count": null,
      "outputs": []
    },
    {
      "cell_type": "code",
      "source": [
        "ds_train = ds_train.map(normalize_image, num_parallel_calls=AUTO).cache().shuffle(ds_info.splits[\"train\"].num_examples)\n",
        "ds_train = ds_train.map(augment, num_parallel_calls=AUTO).batch(BATCH_SIZE).prefetch(AUTO)\n",
        "ds_test = ds_test.map(normalize_image, num_parallel_calls=AUTO).batch(BATCH_SIZE).prefetch(AUTO)"
      ],
      "metadata": {
        "id": "FimZiJPPuDMf"
      },
      "execution_count": null,
      "outputs": []
    },
    {
      "cell_type": "code",
      "source": [
        "ds_train"
      ],
      "metadata": {
        "colab": {
          "base_uri": "https://localhost:8080/"
        },
        "id": "2w3ipYzRvhHM",
        "outputId": "a40af8f3-671e-4194-e3c7-e89b0feee768"
      },
      "execution_count": null,
      "outputs": [
        {
          "output_type": "execute_result",
          "data": {
            "text/plain": [
              "<PrefetchDataset element_spec=(TensorSpec(shape=(None, 32, 32, 3), dtype=tf.float32, name=None), TensorSpec(shape=(None,), dtype=tf.int64, name=None))>"
            ]
          },
          "metadata": {},
          "execution_count": 73
        }
      ]
    },
    {
      "cell_type": "code",
      "source": [
        "class CNNBlock(layers.Layer):\n",
        "  def __init__(self, channels):\n",
        "    super().__init__()\n",
        "    self.cnn = layers.Conv2D(channels, 3, padding='same', activation='leaky_relu', kernel_regularizer=keras.regularizers.l2(0.001))\n",
        "    self.batchNorm = layers.BatchNormalization()\n",
        "    # self.pool = layers.MaxPooling2D()\n",
        "  \n",
        "  def call(self, x, training = False):\n",
        "    x = self.cnn(x)\n",
        "    x = self.batchNorm(x)\n",
        "    return tf.nn.relu(x)\n",
        "\n",
        "class resBlock(layers.Layer):\n",
        "  def __init__(self, channels):\n",
        "    super().__init__()\n",
        "    self.cnn1 = CNNBlock(channels[0])\n",
        "    self.cnn2 = CNNBlock(channels[1])\n",
        "    self.cnn3 = CNNBlock(channels[2])\n",
        "    self.pool = layers.MaxPooling2D()\n",
        "    self.identity_map = layers.Conv2D(channels[1], 1)\n",
        "  \n",
        "  def call(self, x, training = False):\n",
        "    out = self.cnn1(x, training=training)\n",
        "    out = self.cnn2(out, training=training)\n",
        "    out = self.cnn3(self.identity_map(x) + out, training=training)\n",
        "    return self.pool(out)"
      ],
      "metadata": {
        "id": "DiyhUDi83RHZ"
      },
      "execution_count": null,
      "outputs": []
    },
    {
      "cell_type": "code",
      "source": [
        "layer = resBlock(channels=[32,32,64])"
      ],
      "metadata": {
        "id": "sIwbQnx888m8"
      },
      "execution_count": null,
      "outputs": []
    },
    {
      "cell_type": "code",
      "source": [
        "class ResNet_lite(keras.Model):\n",
        "  def __init__(self, num_classes=10):\n",
        "    super().__init__()\n",
        "    self.b1 = resBlock(channels=[32,32,64])\n",
        "    self.b2 = resBlock(channels=[64,64, 128])\n",
        "    self.b3 = resBlock(channels=[128,256,256])\n",
        "    self.pool = layers.GlobalAveragePooling2D()\n",
        "    self.ff = [\n",
        "         layers.Flatten(),\n",
        "         layers.Dense(64, activation='relu'),\n",
        "         layers.Dense(10, activation = 'softmax')\n",
        "        ]\n",
        "  \n",
        "  def call(self, x, training = False):\n",
        "    x = self.b1(x, training)\n",
        "    x = self.b2(x, training)\n",
        "    x = self.b3(x, training)\n",
        "    x = self.pool(x)\n",
        "    for f in self.ff:\n",
        "      x = f(x)\n",
        "    \n",
        "    return x\n"
      ],
      "metadata": {
        "id": "s6AluRox6IrX"
      },
      "execution_count": null,
      "outputs": []
    },
    {
      "cell_type": "code",
      "source": [
        "model = keras.Sequential([\n",
        "    keras.Input(shape=(32, 32,3)),\n",
        "    \n",
        "    resBlock([32,32,64]),\n",
        "    resBlock([64, 128, 128]),\n",
        "    resBlock([128, 256, 256]),\n",
        "\n",
        "    layers.Flatten(),\n",
        "    layers.Dense(64, activation = \"leaky_relu\"),\n",
        "    layers.Dropout(0.3),\n",
        "    layers.Dense(10)\n",
        "])\n",
        "\n",
        "# model = keras.Sequential([\n",
        "#     keras.Input(shape=(32,32,3)),\n",
        "#     ResNet_lite(10)\n",
        "# ])\n",
        "model.compile(\n",
        "    loss = keras.losses.SparseCategoricalCrossentropy(),\n",
        "    optimizer = keras.optimizers.Adam(3e-4),\n",
        "    metrics = [\"accuracy\"]\n",
        ")"
      ],
      "metadata": {
        "id": "u4zD0XfguXDY"
      },
      "execution_count": null,
      "outputs": []
    },
    {
      "cell_type": "code",
      "source": [
        "model.compile(\n",
        "    loss = keras.losses.SparseCategoricalCrossentropy(from_logits=True),\n",
        "    optimizer = keras.optimizers.Adam(3e-4, amsgrad=True),\n",
        "    metrics = [\"accuracy\"]\n",
        ")"
      ],
      "metadata": {
        "id": "N_wr1kRuu4Bk"
      },
      "execution_count": null,
      "outputs": []
    },
    {
      "cell_type": "code",
      "source": [
        "model.fit(ds_train, epochs=30, verbose=2)"
      ],
      "metadata": {
        "colab": {
          "base_uri": "https://localhost:8080/"
        },
        "id": "UEqj2Y-svKdT",
        "outputId": "94d0cd8b-37bd-4ed0-a060-66975165b37a"
      },
      "execution_count": null,
      "outputs": [
        {
          "output_type": "stream",
          "name": "stdout",
          "text": [
            "Epoch 1/30\n",
            "1563/1563 - 21s - loss: 2.7818 - accuracy: 0.2973 - 21s/epoch - 14ms/step\n",
            "Epoch 2/30\n",
            "1563/1563 - 18s - loss: 1.8234 - accuracy: 0.5753 - 18s/epoch - 12ms/step\n",
            "Epoch 3/30\n",
            "1563/1563 - 18s - loss: 1.3661 - accuracy: 0.6961 - 18s/epoch - 11ms/step\n",
            "Epoch 4/30\n",
            "1563/1563 - 18s - loss: 1.1600 - accuracy: 0.7477 - 18s/epoch - 12ms/step\n",
            "Epoch 5/30\n",
            "1563/1563 - 18s - loss: 1.0244 - accuracy: 0.7849 - 18s/epoch - 12ms/step\n",
            "Epoch 6/30\n",
            "1563/1563 - 18s - loss: 0.9465 - accuracy: 0.8027 - 18s/epoch - 11ms/step\n",
            "Epoch 7/30\n",
            "1563/1563 - 18s - loss: 0.8793 - accuracy: 0.8240 - 18s/epoch - 11ms/step\n",
            "Epoch 8/30\n",
            "1563/1563 - 18s - loss: 0.8361 - accuracy: 0.8373 - 18s/epoch - 11ms/step\n",
            "Epoch 9/30\n",
            "1563/1563 - 18s - loss: 0.8095 - accuracy: 0.8463 - 18s/epoch - 11ms/step\n",
            "Epoch 10/30\n",
            "1563/1563 - 18s - loss: 0.7794 - accuracy: 0.8566 - 18s/epoch - 12ms/step\n",
            "Epoch 11/30\n",
            "1563/1563 - 18s - loss: 0.7591 - accuracy: 0.8630 - 18s/epoch - 12ms/step\n",
            "Epoch 12/30\n",
            "1563/1563 - 18s - loss: 0.7406 - accuracy: 0.8720 - 18s/epoch - 11ms/step\n",
            "Epoch 13/30\n",
            "1563/1563 - 18s - loss: 0.7257 - accuracy: 0.8783 - 18s/epoch - 11ms/step\n",
            "Epoch 14/30\n",
            "1563/1563 - 18s - loss: 0.7149 - accuracy: 0.8824 - 18s/epoch - 11ms/step\n",
            "Epoch 15/30\n",
            "1563/1563 - 18s - loss: 0.7003 - accuracy: 0.8888 - 18s/epoch - 11ms/step\n",
            "Epoch 16/30\n",
            "1563/1563 - 18s - loss: 0.6964 - accuracy: 0.8926 - 18s/epoch - 11ms/step\n",
            "Epoch 17/30\n",
            "1563/1563 - 18s - loss: 0.6853 - accuracy: 0.8966 - 18s/epoch - 11ms/step\n",
            "Epoch 18/30\n",
            "1563/1563 - 18s - loss: 0.6803 - accuracy: 0.9000 - 18s/epoch - 11ms/step\n",
            "Epoch 19/30\n",
            "1563/1563 - 18s - loss: 0.6740 - accuracy: 0.9008 - 18s/epoch - 12ms/step\n",
            "Epoch 20/30\n",
            "1563/1563 - 18s - loss: 0.6615 - accuracy: 0.9063 - 18s/epoch - 11ms/step\n",
            "Epoch 21/30\n",
            "1563/1563 - 18s - loss: 0.6572 - accuracy: 0.9083 - 18s/epoch - 11ms/step\n",
            "Epoch 22/30\n",
            "1563/1563 - 18s - loss: 0.6519 - accuracy: 0.9109 - 18s/epoch - 12ms/step\n",
            "Epoch 23/30\n",
            "1563/1563 - 18s - loss: 0.6467 - accuracy: 0.9126 - 18s/epoch - 12ms/step\n",
            "Epoch 24/30\n",
            "1563/1563 - 18s - loss: 0.6433 - accuracy: 0.9140 - 18s/epoch - 11ms/step\n",
            "Epoch 25/30\n",
            "1563/1563 - 18s - loss: 0.6379 - accuracy: 0.9166 - 18s/epoch - 11ms/step\n",
            "Epoch 26/30\n",
            "1563/1563 - 18s - loss: 0.6374 - accuracy: 0.9174 - 18s/epoch - 11ms/step\n",
            "Epoch 27/30\n",
            "1563/1563 - 18s - loss: 0.6275 - accuracy: 0.9201 - 18s/epoch - 11ms/step\n",
            "Epoch 28/30\n",
            "1563/1563 - 18s - loss: 0.6259 - accuracy: 0.9208 - 18s/epoch - 11ms/step\n",
            "Epoch 29/30\n",
            "1563/1563 - 18s - loss: 0.6229 - accuracy: 0.9224 - 18s/epoch - 11ms/step\n",
            "Epoch 30/30\n",
            "1563/1563 - 18s - loss: 0.6267 - accuracy: 0.9211 - 18s/epoch - 11ms/step\n"
          ]
        },
        {
          "output_type": "execute_result",
          "data": {
            "text/plain": [
              "<keras.callbacks.History at 0x7fd6caa67c90>"
            ]
          },
          "metadata": {},
          "execution_count": 160
        }
      ]
    },
    {
      "cell_type": "code",
      "source": [
        "model.evaluate(ds_test, verbose = 2)"
      ],
      "metadata": {
        "colab": {
          "base_uri": "https://localhost:8080/"
        },
        "id": "Q6w7Lc6YvRCV",
        "outputId": "a6b80a08-8c90-4dc9-d9d9-bf7c9e2104d4"
      },
      "execution_count": null,
      "outputs": [
        {
          "output_type": "stream",
          "name": "stdout",
          "text": [
            "313/313 - 2s - loss: 1.4053 - accuracy: 0.7334 - 2s/epoch - 6ms/step\n"
          ]
        },
        {
          "output_type": "execute_result",
          "data": {
            "text/plain": [
              "[1.4052510261535645, 0.7333999872207642]"
            ]
          },
          "metadata": {},
          "execution_count": 157
        }
      ]
    },
    {
      "cell_type": "code",
      "source": [
        ""
      ],
      "metadata": {
        "id": "l2cA5iMu_pJW"
      },
      "execution_count": null,
      "outputs": []
    }
  ]
}