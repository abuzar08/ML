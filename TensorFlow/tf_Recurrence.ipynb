{
  "nbformat": 4,
  "nbformat_minor": 0,
  "metadata": {
    "colab": {
      "name": "tf_Recurrence.ipynb",
      "provenance": []
    },
    "kernelspec": {
      "name": "python3",
      "display_name": "Python 3"
    },
    "language_info": {
      "name": "python"
    },
    "accelerator": "GPU"
  },
  "cells": [
    {
      "cell_type": "code",
      "execution_count": 1,
      "metadata": {
        "id": "BUDmVFeAHMPR"
      },
      "outputs": [],
      "source": [
        "import tensorflow as tf\n",
        "from tensorflow import keras\n",
        "from tensorflow.keras import layers, regularizers\n",
        "import numpy as np\n",
        "import matplotlib.pyplot as plt"
      ]
    },
    {
      "cell_type": "markdown",
      "source": [
        "## Data"
      ],
      "metadata": {
        "id": "r2Uic9eeHw7b"
      }
    },
    {
      "cell_type": "code",
      "source": [
        "mnist = keras.datasets.mnist"
      ],
      "metadata": {
        "id": "f6hslwRDHcPJ"
      },
      "execution_count": 2,
      "outputs": []
    },
    {
      "cell_type": "code",
      "source": [
        "(x_train, y_train), (x_test, y_test) = mnist.load_data()"
      ],
      "metadata": {
        "colab": {
          "base_uri": "https://localhost:8080/"
        },
        "id": "hwOJZmeYHfxp",
        "outputId": "d5f3488a-01d0-4672-d1d4-2511e59a8ceb"
      },
      "execution_count": 3,
      "outputs": [
        {
          "output_type": "stream",
          "name": "stdout",
          "text": [
            "Downloading data from https://storage.googleapis.com/tensorflow/tf-keras-datasets/mnist.npz\n",
            "11493376/11490434 [==============================] - 0s 0us/step\n",
            "11501568/11490434 [==============================] - 0s 0us/step\n"
          ]
        }
      ]
    },
    {
      "cell_type": "code",
      "source": [
        "x_train, x_test = x_train/255.0 , x_test/255.0"
      ],
      "metadata": {
        "id": "qZFmQbpQHjvx"
      },
      "execution_count": 4,
      "outputs": []
    },
    {
      "cell_type": "markdown",
      "source": [
        "## RNN\n",
        "- Row by row being vectors"
      ],
      "metadata": {
        "id": "8avSBbgBHx6-"
      }
    },
    {
      "cell_type": "code",
      "source": [
        "model_L = keras.Sequential(\n",
        "    [\n",
        "      keras.Input(shape = (None, 28)),\n",
        "      layers.Bidirectional(\n",
        "          layers.LSTM(256, return_sequences=True, activation = 'tanh'), #Basic RNN - (Node, return_sequences=True)   \n",
        "      ),\n",
        "      layers.Bidirectional(\n",
        "          layers.LSTM(256, activation = 'tanh'),\n",
        "      ),\n",
        "      layers.Dense(10)\n",
        "    ]\n",
        ")"
      ],
      "metadata": {
        "id": "m6RDPe6uHwNr"
      },
      "execution_count": 27,
      "outputs": []
    },
    {
      "cell_type": "code",
      "source": [
        "model_L.compile(\n",
        "    loss = keras.losses.SparseCategoricalCrossentropy(from_logits=True),\n",
        "    optimizer = keras.optimizers.Adam(learning_rate = 0.001),\n",
        "    metrics = [\"accuracy\"]\n",
        ")"
      ],
      "metadata": {
        "id": "Wt323DZOZJVR"
      },
      "execution_count": 28,
      "outputs": []
    },
    {
      "cell_type": "code",
      "source": [
        "model_L.summary()"
      ],
      "metadata": {
        "colab": {
          "base_uri": "https://localhost:8080/"
        },
        "id": "5gUN1xeRoIay",
        "outputId": "a3d65451-2f8e-42d3-98af-26579b86d86d"
      },
      "execution_count": 29,
      "outputs": [
        {
          "output_type": "stream",
          "name": "stdout",
          "text": [
            "Model: \"sequential_5\"\n",
            "_________________________________________________________________\n",
            " Layer (type)                Output Shape              Param #   \n",
            "=================================================================\n",
            " bidirectional_2 (Bidirectio  (None, None, 512)        583680    \n",
            " nal)                                                            \n",
            "                                                                 \n",
            " bidirectional_3 (Bidirectio  (None, 512)              1574912   \n",
            " nal)                                                            \n",
            "                                                                 \n",
            " dense_5 (Dense)             (None, 10)                5130      \n",
            "                                                                 \n",
            "=================================================================\n",
            "Total params: 2,163,722\n",
            "Trainable params: 2,163,722\n",
            "Non-trainable params: 0\n",
            "_________________________________________________________________\n"
          ]
        }
      ]
    },
    {
      "cell_type": "code",
      "source": [
        "model_L.fit(x_train, y_train, batch_size=64, epochs=10, verbose=2)"
      ],
      "metadata": {
        "colab": {
          "base_uri": "https://localhost:8080/"
        },
        "id": "FCGEV3TPZb4r",
        "outputId": "91fa0c43-ca98-49eb-96ba-0fa89536666b"
      },
      "execution_count": 30,
      "outputs": [
        {
          "output_type": "stream",
          "name": "stdout",
          "text": [
            "Epoch 1/10\n",
            "938/938 - 21s - loss: 0.2611 - accuracy: 0.9149 - 21s/epoch - 22ms/step\n",
            "Epoch 2/10\n",
            "938/938 - 14s - loss: 0.0799 - accuracy: 0.9754 - 14s/epoch - 15ms/step\n",
            "Epoch 3/10\n",
            "938/938 - 14s - loss: 0.0539 - accuracy: 0.9837 - 14s/epoch - 15ms/step\n",
            "Epoch 4/10\n",
            "938/938 - 14s - loss: 0.0429 - accuracy: 0.9872 - 14s/epoch - 15ms/step\n",
            "Epoch 5/10\n",
            "938/938 - 14s - loss: 0.0377 - accuracy: 0.9880 - 14s/epoch - 15ms/step\n",
            "Epoch 6/10\n",
            "938/938 - 14s - loss: 0.0293 - accuracy: 0.9905 - 14s/epoch - 15ms/step\n",
            "Epoch 7/10\n",
            "938/938 - 14s - loss: 0.0256 - accuracy: 0.9917 - 14s/epoch - 15ms/step\n",
            "Epoch 8/10\n",
            "938/938 - 14s - loss: 0.0228 - accuracy: 0.9932 - 14s/epoch - 15ms/step\n",
            "Epoch 9/10\n",
            "938/938 - 14s - loss: 0.0183 - accuracy: 0.9939 - 14s/epoch - 15ms/step\n",
            "Epoch 10/10\n",
            "938/938 - 14s - loss: 0.0168 - accuracy: 0.9948 - 14s/epoch - 15ms/step\n"
          ]
        },
        {
          "output_type": "execute_result",
          "data": {
            "text/plain": [
              "<keras.callbacks.History at 0x7f46d674cb50>"
            ]
          },
          "metadata": {},
          "execution_count": 30
        }
      ]
    },
    {
      "cell_type": "code",
      "source": [
        "model_L.evaluate(x_test, y_test, batch_size=64, verbose=2)"
      ],
      "metadata": {
        "colab": {
          "base_uri": "https://localhost:8080/"
        },
        "id": "HDudO7wvZ8M4",
        "outputId": "ab07fe23-5f3b-46f4-bd3d-70ace1431a36"
      },
      "execution_count": 31,
      "outputs": [
        {
          "output_type": "stream",
          "name": "stdout",
          "text": [
            "157/157 - 3s - loss: 0.0329 - accuracy: 0.9902 - 3s/epoch - 17ms/step\n"
          ]
        },
        {
          "output_type": "execute_result",
          "data": {
            "text/plain": [
              "[0.0329316072165966, 0.9901999831199646]"
            ]
          },
          "metadata": {},
          "execution_count": 31
        }
      ]
    },
    {
      "cell_type": "code",
      "source": [
        ""
      ],
      "metadata": {
        "id": "NmVa6_hKc7l-"
      },
      "execution_count": null,
      "outputs": []
    }
  ]
}