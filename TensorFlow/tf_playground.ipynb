{
  "nbformat": 4,
  "nbformat_minor": 0,
  "metadata": {
    "colab": {
      "name": "tf_playground.ipynb",
      "provenance": []
    },
    "kernelspec": {
      "name": "python3",
      "display_name": "Python 3"
    },
    "language_info": {
      "name": "python"
    }
  },
  "cells": [
    {
      "cell_type": "markdown",
      "source": [
        "# TensoFlow\n",
        "\n",
        "1. nd-array\n",
        "2. GPU Support\n",
        "3. Backpropagation - Computational- graph\n",
        "4. Tensors are Immutable"
      ],
      "metadata": {
        "id": "GRB62A3SuzV_"
      }
    },
    {
      "cell_type": "markdown",
      "source": [
        "# Imports"
      ],
      "metadata": {
        "id": "S6p_-DBDvAlY"
      }
    },
    {
      "cell_type": "code",
      "execution_count": 1,
      "metadata": {
        "id": "4XCwSBn1uXXT"
      },
      "outputs": [],
      "source": [
        "import tensorflow as tf\n",
        "# import numpy as np\n",
        "# from tqdm.notebook import tqdm"
      ]
    },
    {
      "cell_type": "markdown",
      "source": [
        "# Getting familiar "
      ],
      "metadata": {
        "id": "8y9PoMdyuwFE"
      }
    },
    {
      "cell_type": "code",
      "source": [
        "x = tf.constant([1,2,3], shape = (3,1), dtype = tf.float32)\n",
        "ones = tf.ones((3,3))\n",
        "eye = tf.eye(3)\n",
        "eye"
      ],
      "metadata": {
        "colab": {
          "base_uri": "https://localhost:8080/"
        },
        "id": "SCcf7QZOuaoO",
        "outputId": "203b32f0-9ca3-4300-8e24-33f6ab69169a"
      },
      "execution_count": 2,
      "outputs": [
        {
          "output_type": "execute_result",
          "data": {
            "text/plain": [
              "<tf.Tensor: shape=(3, 3), dtype=float32, numpy=\n",
              "array([[1., 0., 0.],\n",
              "       [0., 1., 0.],\n",
              "       [0., 0., 1.]], dtype=float32)>"
            ]
          },
          "metadata": {},
          "execution_count": 2
        }
      ]
    },
    {
      "cell_type": "code",
      "source": [
        "x =tf.random.normal((3,3), mean = 0, stddev = 1)\n",
        "x"
      ],
      "metadata": {
        "colab": {
          "base_uri": "https://localhost:8080/"
        },
        "id": "bj7oQmpMvJq0",
        "outputId": "f200ec0c-0299-40a8-d86d-8db3af855949"
      },
      "execution_count": 3,
      "outputs": [
        {
          "output_type": "execute_result",
          "data": {
            "text/plain": [
              "<tf.Tensor: shape=(3, 3), dtype=float32, numpy=\n",
              "array([[-0.8717674 ,  0.54125434,  1.7090832 ],\n",
              "       [-0.80594254, -0.65628415,  0.1817105 ],\n",
              "       [-1.0308754 ,  0.39248526, -1.7284844 ]], dtype=float32)>"
            ]
          },
          "metadata": {},
          "execution_count": 3
        }
      ]
    },
    {
      "cell_type": "code",
      "source": [
        "tf.range(10)"
      ],
      "metadata": {
        "id": "ryPQmNHqvqxE",
        "colab": {
          "base_uri": "https://localhost:8080/"
        },
        "outputId": "2e2abb48-9b8d-4fcd-f940-30b13f5b064c"
      },
      "execution_count": 4,
      "outputs": [
        {
          "output_type": "execute_result",
          "data": {
            "text/plain": [
              "<tf.Tensor: shape=(10,), dtype=int32, numpy=array([0, 1, 2, 3, 4, 5, 6, 7, 8, 9], dtype=int32)>"
            ]
          },
          "metadata": {},
          "execution_count": 4
        }
      ]
    },
    {
      "cell_type": "code",
      "source": [
        "x = tf.constant([1,2,3], shape = (3,1), dtype=tf.float32)\n",
        "y = tf.constant([4,5,6], shape = (3,1), dtype=tf.float32)"
      ],
      "metadata": {
        "id": "m4v0JdmoDF4V"
      },
      "execution_count": 22,
      "outputs": []
    },
    {
      "cell_type": "code",
      "source": [
        "tf.tensordot(x,y, axes = 1).numpy()"
      ],
      "metadata": {
        "colab": {
          "base_uri": "https://localhost:8080/"
        },
        "id": "Y4n10WXIJASv",
        "outputId": "3950fd08-5851-4b2a-b413-27e85daebffe"
      },
      "execution_count": 16,
      "outputs": [
        {
          "output_type": "execute_result",
          "data": {
            "text/plain": [
              "32.0"
            ]
          },
          "metadata": {},
          "execution_count": 16
        }
      ]
    },
    {
      "cell_type": "code",
      "source": [
        "tf.matmul(tf.transpose(x),y)"
      ],
      "metadata": {
        "colab": {
          "base_uri": "https://localhost:8080/"
        },
        "id": "rZxIuc87JE64",
        "outputId": "73df51cb-7921-467b-e605-a2b4053d57a5"
      },
      "execution_count": 23,
      "outputs": [
        {
          "output_type": "execute_result",
          "data": {
            "text/plain": [
              "<tf.Tensor: shape=(1, 1), dtype=float32, numpy=array([[32.]], dtype=float32)>"
            ]
          },
          "metadata": {},
          "execution_count": 23
        }
      ]
    },
    {
      "cell_type": "code",
      "source": [
        "tf.transpose(x)\n",
        "x"
      ],
      "metadata": {
        "colab": {
          "base_uri": "https://localhost:8080/"
        },
        "id": "l7PfLSP9Lhnj",
        "outputId": "44b60d47-6ab8-4cc3-ae2f-bd51be7e96b0"
      },
      "execution_count": 21,
      "outputs": [
        {
          "output_type": "execute_result",
          "data": {
            "text/plain": [
              "<tf.Tensor: shape=(3,), dtype=float32, numpy=array([1., 2., 3.], dtype=float32)>"
            ]
          },
          "metadata": {},
          "execution_count": 21
        }
      ]
    },
    {
      "cell_type": "code",
      "source": [
        "x = tf.constant([[1,2,3],[4,5,6]])"
      ],
      "metadata": {
        "id": "NEU9pWrMLrXa"
      },
      "execution_count": 24,
      "outputs": []
    },
    {
      "cell_type": "code",
      "source": [
        "x_r = tf.reshape(x, (6,-1))"
      ],
      "metadata": {
        "id": "Ef1r6AiQMGXJ"
      },
      "execution_count": 34,
      "outputs": []
    },
    {
      "cell_type": "code",
      "source": [
        "x"
      ],
      "metadata": {
        "colab": {
          "base_uri": "https://localhost:8080/"
        },
        "id": "BTKl-DwmMGo7",
        "outputId": "06855635-f706-477d-a319-b952a35eef7a"
      },
      "execution_count": 35,
      "outputs": [
        {
          "output_type": "execute_result",
          "data": {
            "text/plain": [
              "<tf.Tensor: shape=(2, 3), dtype=int32, numpy=\n",
              "array([[1, 2, 3],\n",
              "       [4, 5, 6]], dtype=int32)>"
            ]
          },
          "metadata": {},
          "execution_count": 35
        }
      ]
    },
    {
      "cell_type": "code",
      "source": [
        "type(x_r)"
      ],
      "metadata": {
        "colab": {
          "base_uri": "https://localhost:8080/"
        },
        "id": "OtGd1uoBMWGZ",
        "outputId": "3ceac3ba-af8b-4569-84c5-2044017c1fa7"
      },
      "execution_count": 37,
      "outputs": [
        {
          "output_type": "execute_result",
          "data": {
            "text/plain": [
              "tensorflow.python.framework.ops.EagerTensor"
            ]
          },
          "metadata": {},
          "execution_count": 37
        }
      ]
    },
    {
      "cell_type": "code",
      "source": [
        ""
      ],
      "metadata": {
        "id": "CxV3QjjZMW6u"
      },
      "execution_count": null,
      "outputs": []
    }
  ]
}